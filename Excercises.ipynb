{
 "cells": [
  {
   "cell_type": "code",
   "execution_count": 4,
   "metadata": {},
   "outputs": [
    {
     "name": "stdout",
     "output_type": "stream",
     "text": [
      "Valor de la variable: Jose\n",
      "Variable 1:  Jose\n",
      "Tipo:  <class 'str'>\n",
      "My_name:  Sergio\n"
     ]
    }
   ],
   "source": [
    "#1\n",
    "\n",
    "my_name = str(\"Jose\")\n",
    "print (\"Valor de la variable:\", my_name)\n",
    "print (\"Variable 1: \", my_name)\n",
    "print (\"Tipo: \", type(my_name))\n",
    "My_name = str(\"Sergio\")\n",
    "print (\"My_name: \", My_name)\n"
   ]
  },
  {
   "cell_type": "code",
   "execution_count": 5,
   "metadata": {},
   "outputs": [
    {
     "name": "stdout",
     "output_type": "stream",
     "text": [
      "age:  89\n"
     ]
    }
   ],
   "source": [
    "#2\n",
    "\n",
    "i = int(89)\n",
    "print (\"age: \", i)"
   ]
  },
  {
   "cell_type": "code",
   "execution_count": 6,
   "metadata": {},
   "outputs": [
    {
     "name": "stdout",
     "output_type": "stream",
     "text": [
      "Age diference:  57\n"
     ]
    }
   ],
   "source": [
    "#3\n",
    "\n",
    "julia_age = int(32)\n",
    "age_diff = (i - julia_age)\n",
    "print (\"Age diference: \", age_diff)\n"
   ]
  },
  {
   "cell_type": "code",
   "execution_count": 20,
   "metadata": {},
   "outputs": [
    {
     "name": "stdout",
     "output_type": "stream",
     "text": [
      "You are older than:  21\n"
     ]
    }
   ],
   "source": [
    "#4\n",
    "\n",
    "reference = 21  # número de referencia\n",
    "valor = float(input(\"How old are you?: \"))  # solicita al usuario que ingrese un valor\n",
    "\n",
    "if valor > reference:\n",
    "    print(\"You are older than: \", reference)\n",
    "elif valor < reference:\n",
    "    print(\"You are younger than: \", reference)\n",
    "else:\n",
    "    print(\"You are: \", reference)"
   ]
  },
  {
   "cell_type": "code",
   "execution_count": 11,
   "metadata": {},
   "outputs": [
    {
     "name": "stdout",
     "output_type": "stream",
     "text": [
      "You have the same age as Julia\n"
     ]
    }
   ],
   "source": [
    "#5\n",
    "\n",
    "You = float(input(\"How old are you?: \"))\n",
    "Julia = float(input(\"How old are Julia?: \"))\n",
    "\n",
    "if Julia > You:\n",
    "    print(\"Julia is older than you\", )\n",
    "elif Julia < You:\n",
    "    print(\"Julia is younger than you\", )\n",
    "else:\n",
    "    print(\"You have the same age as Julia\", )"
   ]
  },
  {
   "cell_type": "code",
   "execution_count": 12,
   "metadata": {},
   "outputs": [
    {
     "name": "stdout",
     "output_type": "stream",
     "text": [
      "Alireza\n",
      "Tanusree\n",
      "Alireza\n",
      "Arjun\n",
      "Carmen\n",
      "Killian\n",
      "Liudmyla\n",
      "Marta\n",
      "Max\n",
      "Melissa\n",
      "Natalie\n",
      "Nest\n",
      "Phuoc\n",
      "Sabir\n",
      "Sergio\n",
      "Sian\n",
      "Sonja\n",
      "Tanusree\n"
     ]
    }
   ],
   "source": [
    "#6\n",
    "\n",
    "class_names = [\"Nest\", \"Carmen\", \"Max\", \"Sian\", \"Sergio\", \"Natalie\", \"Marta\", \"Alireza\", \"Sonja\", \"Melissa\", \"Sabir\", \"Liudmyla\", \"Phuoc\", \"Tanusree\", \"Arjun\", \"Killian\"]\n",
    "class_names.sort()\n",
    "\n",
    "print(class_names[0])\n",
    "print(class_names[-1])\n",
    "\n",
    "for name in class_names:\n",
    "    print(name)"
   ]
  },
  {
   "cell_type": "code",
   "execution_count": 27,
   "metadata": {},
   "outputs": [
    {
     "name": "stdout",
     "output_type": "stream",
     "text": [
      "35\n",
      "20\n",
      "24\n",
      "27\n",
      "26\n",
      "32\n",
      "33\n",
      "39\n",
      "26\n",
      "23\n",
      "54\n"
     ]
    }
   ],
   "source": [
    "#7 (list / all)\n",
    "\n",
    "ages = [35,20,24,27,26,32,33,39,26,23,54]\n",
    "for i in ages:\n",
    "    print(i)\n",
    "    "
   ]
  },
  {
   "cell_type": "code",
   "execution_count": 5,
   "metadata": {},
   "outputs": [
    {
     "name": "stdout",
     "output_type": "stream",
     "text": [
      "22\n",
      "20\n",
      "24\n",
      "26\n",
      "24\n",
      "22\n",
      "20\n"
     ]
    }
   ],
   "source": [
    "#7 (even numbers)\n",
    "\n",
    "ages = [22,25,20,24,25,25,26,25,24,23,22,21,20]\n",
    "    \n",
    "for i in ages:\n",
    "    if i % 2 == 0:\n",
    "        print(i)"
   ]
  },
  {
   "cell_type": "code",
   "execution_count": 6,
   "metadata": {},
   "outputs": [
    {
     "name": "stdout",
     "output_type": "stream",
     "text": [
      "25\n",
      "25\n",
      "25\n",
      "25\n",
      "23\n",
      "21\n"
     ]
    }
   ],
   "source": [
    "#7 (odd numbers)\n",
    "\n",
    "ages = [22,25,20,24,25,25,26,25,24,23,22,21,20]\n",
    "    \n",
    "for i in ages:\n",
    "    if i % 2 != 0:\n",
    "        print(i)"
   ]
  },
  {
   "cell_type": "code",
   "execution_count": 12,
   "metadata": {},
   "outputs": [
    {
     "name": "stdout",
     "output_type": "stream",
     "text": [
      "Eges even numbers:\n",
      "[22, 20, 24, 26, 24, 22, 20]\n",
      "Eges odd numbers:\n",
      "[25, 25, 25, 25, 23, 21]\n"
     ]
    }
   ],
   "source": [
    "#7 (While Loop)\n",
    "\n",
    "\n",
    "personas_edades = [('Nestor', 22), ('Carmen', 25), ('Max', 20), ('Sian', 24), ('Sergio', 25), ('Natalie',25), ('Marta',26), ('Alireza',25), ('Sonja',24), ('Melissa', 23), ('Sabir', 22), ('Liudmyla',21), ('Phuoc',20)]\n",
    "\n",
    "ages_even_numbers = []\n",
    "ages_odd_numbers = []\n",
    "\n",
    "i = 0\n",
    "while i < len(personas_edades):\n",
    "    edad = personas_edades[i][1]\n",
    "   \n",
    "    if edad % 2 == 0:\n",
    "         ages_even_numbers.append(edad)\n",
    "    else:\n",
    "        ages_odd_numbers.append(edad)\n",
    "    i += 1\n",
    "\n",
    "\n",
    "print(\"Eges even numbers:\")\n",
    "print( ages_even_numbers)\n",
    "print(\"Eges odd numbers:\")\n",
    "print(ages_odd_numbers)"
   ]
  },
  {
   "cell_type": "code",
   "execution_count": 2,
   "metadata": {},
   "outputs": [
    {
     "name": "stdout",
     "output_type": "stream",
     "text": [
      "The lowest number is: 1\n"
     ]
    }
   ],
   "source": [
    "#8\n",
    "\n",
    "numbers = [3, 1, 4, 1, 5, 9, 2, 6, 5, 3]\n",
    "lowest = min(numbers)\n",
    "print(\"The lowest number is:\", lowest)\n"
   ]
  },
  {
   "cell_type": "code",
   "execution_count": 4,
   "metadata": {},
   "outputs": [
    {
     "name": "stdout",
     "output_type": "stream",
     "text": [
      "The highest value in the list is:  20\n"
     ]
    }
   ],
   "source": [
    "# 9\n",
    "\n",
    "integer_numbers = [7, 12, 9, 3, 20, 6, 1, 15, 13, 8, 17, 4, 11]\n",
    "\n",
    "print(\"The highest value in the list is: \", max(integer_numbers))\n",
    "\n"
   ]
  },
  {
   "cell_type": "code",
   "execution_count": 5,
   "metadata": {},
   "outputs": [
    {
     "name": "stdout",
     "output_type": "stream",
     "text": [
      "Customer's age is: 24\n",
      "Customer's age is: 28\n",
      "Customer's age is: 18\n",
      "Customer's age is: 13\n",
      "Customer's age is: 16\n",
      "Customer's age is: 17\n",
      "Customer's age is: 29\n",
      "Customer's age is: 27\n",
      "Customer's age is: 44\n",
      "Customer's age is: 15\n"
     ]
    }
   ],
   "source": [
    "#10\n",
    "\n",
    "import datetime\n",
    "\n",
    "birth_years = [1999, 1995, 2005, 2010, 2007, 2006, 1994, 1996, 1979, 2008]\n",
    "\n",
    "for i in birth_years:\n",
    "    i = datetime.datetime.now().year - i\n",
    "    print(\"Customer's age is:\", i)"
   ]
  },
  {
   "cell_type": "code",
   "execution_count": 6,
   "metadata": {},
   "outputs": [
    {
     "name": "stdout",
     "output_type": "stream",
     "text": [
      "Bob is 24 years old\n",
      "Jack is 28 years old\n",
      "Lisa is 18 years old\n",
      "Maria is 13 years old\n",
      "Ben is 16 years old\n",
      "Emma is 17 years old\n",
      "Oscar is 29 years old\n",
      "Amy is 27 years old\n",
      "Paul is 44 years old\n",
      "Etta is 15 years old\n"
     ]
    }
   ],
   "source": [
    "# 11a *REVISAR CUAL SERIA EL 11B? \n",
    "\n",
    "customer_list = [{\"name\": \"Bob\", \"age\": 1999}, {\"name\": \"Jack\", \"age\": 1995}, {\"name\": \"Lisa\", \"age\": 2005}, {\"name\": \"Maria\", \"age\": 2010}, {\"name\": \"Ben\", \"age\": 2007}, {\"name\": \"Emma\", \"age\": 2006}, {\"name\": \"Oscar\", \"age\": 1994}, {\"name\": \"Amy\", \"age\": 1996}, {\"name\": \"Paul\", \"age\": 1979}, {\"name\": \"Etta\", \"age\": 2008}]\n",
    "\n",
    "for i in customer_list:\n",
    "    print(i[\"name\"], \"is\", 2023 - i[\"age\"], \"years old\")"
   ]
  },
  {
   "cell_type": "code",
   "execution_count": 8,
   "metadata": {},
   "outputs": [
    {
     "name": "stdout",
     "output_type": "stream",
     "text": [
      "[20, 24, 14, 12, 13, 25, 23, 11]\n"
     ]
    }
   ],
   "source": [
    "#12\n",
    "\n",
    "ages = [20, 24, 14, 9, 12, 13, 25, 23, 40, 11]\n",
    "\n",
    "youngest_index = 0\n",
    "oldest_index = 0\n",
    "for i in range(len(ages)):\n",
    "    if ages[i] < ages[youngest_index]:\n",
    "        youngest_index = i\n",
    "    if ages[i] > ages[oldest_index]:\n",
    "        oldest_index = i\n",
    "\n",
    "\n",
    "if youngest_index < oldest_index:\n",
    "    del ages[oldest_index]\n",
    "    del ages[youngest_index]\n",
    "else:\n",
    "    del ages[youngest_index]\n",
    "    del ages[oldest_index]\n",
    "\n",
    "print(ages)\n"
   ]
  },
  {
   "cell_type": "code",
   "execution_count": 9,
   "metadata": {},
   "outputs": [
    {
     "name": "stdout",
     "output_type": "stream",
     "text": [
      "[15, 13, 16, 18, 19, 10]\n"
     ]
    }
   ],
   "source": [
    "#13 Common Values\n",
    "\n",
    "Berlin = [15, 13, 16, 18, 19, 10, 12]\n",
    "Munich = [7, 13, 15, 20, 19, 18, 10, 16]\n",
    "\n",
    "common_ages = []\n",
    "for i in Berlin:\n",
    "    if i in Munich and i not in common_ages:\n",
    "        common_ages.append(i)\n",
    "\n",
    "print(common_ages)\n"
   ]
  },
  {
   "cell_type": "code",
   "execution_count": 10,
   "metadata": {},
   "outputs": [
    {
     "name": "stdout",
     "output_type": "stream",
     "text": [
      "[15, 13, 16, 18, 19, 10]\n"
     ]
    }
   ],
   "source": [
    "#14 \n",
    "\n",
    "ages = [15, 13, 16, 18, 19, 15, 10]\n",
    "unique_ages = []\n",
    "\n",
    "for i in ages:\n",
    "    if i not in unique_ages:\n",
    "        unique_ages.append(i)\n",
    "\n",
    "print(unique_ages)\n"
   ]
  },
  {
   "cell_type": "code",
   "execution_count": 6,
   "metadata": {},
   "outputs": [
    {
     "name": "stdout",
     "output_type": "stream",
     "text": [
      "Welcome Evelyn, have a nice day!\n",
      "Welcome Jost, have a nice day!\n"
     ]
    }
   ],
   "source": [
    "# 15** (ver otra forma diferente a fx)\n",
    "\n",
    "\n",
    "def welcome(name):\n",
    "    print(f\"Welcome {name}, have a nice day!\")\n",
    "\n",
    "welcome('Evelyn')\n",
    "welcome('Jost')\n"
   ]
  },
  {
   "cell_type": "code",
   "execution_count": 13,
   "metadata": {},
   "outputs": [
    {
     "name": "stdout",
     "output_type": "stream",
     "text": [
      "5\n",
      "2\n",
      "5\n",
      "2\n"
     ]
    }
   ],
   "source": [
    "#16\n",
    "\n",
    "def get_length(input_string):\n",
    "    return len(input_string)\n",
    "\n",
    "print(get_length('Hello'))\n",
    "\n",
    "print(get_length('Hi'))     \n",
    "\n",
    "print(len('Hello'))  # Output: 5\n",
    "\n",
    "print(len('Hi'))     # Output: 2"
   ]
  },
  {
   "cell_type": "code",
   "execution_count": 14,
   "metadata": {},
   "outputs": [
    {
     "name": "stdout",
     "output_type": "stream",
     "text": [
      "Yes\n"
     ]
    }
   ],
   "source": [
    "# 17  Write a function which checks whether a number is even\n",
    "\n",
    "def check_even(num):\n",
    "    if num % 2 == 0:\n",
    "        return \"Yes\"\n",
    "    else:\n",
    "        return \"No\"\n",
    "\n",
    "print(check_even(6))"
   ]
  },
  {
   "cell_type": "code",
   "execution_count": 1,
   "metadata": {},
   "outputs": [
    {
     "name": "stdout",
     "output_type": "stream",
     "text": [
      "Bob is 24 years old\n",
      "Jack is 28 years old\n",
      "Lisa is 18 years old\n",
      "Maria is 13 years old\n",
      "Ben is 16 years old\n",
      "Emma is 17 years old\n",
      "Oscar is 29 years old\n",
      "Amy is 27 years old\n",
      "Paul is 44 years old\n",
      "Etta is 15 years old\n"
     ]
    }
   ],
   "source": [
    "#18a (11)\n",
    "\n",
    "# -#11- as a function\n",
    "\n",
    "def print_customer_ages(customer_list):\n",
    "    for i in customer_list:\n",
    "        print(i[\"name\"], \"is\", 2023 - i[\"age\"], \"years old\")\n",
    "\n",
    "# Customer dictionaries as a parameter:\n",
    "\n",
    "customer_list = [{\"name\": \"Bob\", \"age\": 1999}, {\"name\": \"Jack\", \"age\": 1995}, {\"name\": \"Lisa\", \"age\": 2005}, {\"name\": \"Maria\", \"age\": 2010}, {\"name\": \"Ben\", \"age\": 2007}, {\"name\": \"Emma\", \"age\": 2006}, {\"name\": \"Oscar\", \"age\": 1994}, {\"name\": \"Amy\", \"age\": 1996}, {\"name\": \"Paul\", \"age\": 1979}, {\"name\": \"Etta\", \"age\": 2008}]\n",
    "\n",
    "print_customer_ages(customer_list)\n",
    "\n"
   ]
  },
  {
   "cell_type": "code",
   "execution_count": null,
   "metadata": {},
   "outputs": [],
   "source": [
    "#18b (12)\n",
    "\n",
    "def remove_youngest_and_oldest(ages):\n",
    "    youngest_index = 0\n",
    "    oldest_index = 0\n",
    "    for i in range(len(ages)):\n",
    "        if ages[i] < ages[youngest_index]:\n",
    "            youngest_index = i\n",
    "        if ages[i] > ages[oldest_index]:\n",
    "            oldest_index = i\n",
    "\n",
    "    if youngest_index < oldest_index:\n",
    "        del ages[oldest_index]\n",
    "        del ages[youngest_index]\n",
    "    else:\n",
    "        del ages[youngest_index]\n",
    "        del ages[oldest_index]\n",
    "\n",
    "    return ages\n",
    "\n",
    "#List of ages as a parameter\n",
    "#To call the function:\n",
    "ages = [20, 24, 14, 9, 12, 13, 25, 23, 40, 11]\n",
    "new_ages = remove_youngest_and_oldest(ages)\n",
    "print(new_ages)\n",
    "\n"
   ]
  },
  {
   "cell_type": "code",
   "execution_count": 2,
   "metadata": {},
   "outputs": [
    {
     "name": "stdout",
     "output_type": "stream",
     "text": [
      "[15, 13, 16, 18, 19, 10]\n"
     ]
    }
   ],
   "source": [
    "#18c (13)\n",
    "\n",
    "def find_common_ages(city1, city2):\n",
    "    common_ages = []\n",
    "    for i in city1:\n",
    "        if i in city2 and i not in common_ages:\n",
    "            common_ages.append(i)\n",
    "    return common_ages\n",
    "\n",
    "# The lists:\n",
    "Berlin = [15, 13, 16, 18, 19, 10, 12]\n",
    "Munich = [7, 13, 15, 20, 19, 18, 10, 16]\n",
    "\n",
    "common_ages = find_common_ages(Berlin, Munich)\n",
    "print(common_ages)\n"
   ]
  },
  {
   "cell_type": "code",
   "execution_count": 3,
   "metadata": {},
   "outputs": [
    {
     "name": "stdout",
     "output_type": "stream",
     "text": [
      "[15, 13, 16, 18, 19, 10]\n"
     ]
    }
   ],
   "source": [
    "#18d (14)\n",
    "\n",
    "def get_unique_ages(ages):\n",
    "    unique_ages = []\n",
    "    for i in ages:\n",
    "        if i not in unique_ages:\n",
    "            unique_ages.append(i)\n",
    "    return unique_ages\n",
    "\n",
    "# # The lists:\n",
    "ages = [15, 13, 16, 18, 19, 15, 10]\n",
    "unique_ages = get_unique_ages(ages)\n",
    "print(unique_ages)\n",
    "\n"
   ]
  },
  {
   "cell_type": "code",
   "execution_count": 5,
   "metadata": {},
   "outputs": [
    {
     "name": "stdout",
     "output_type": "stream",
     "text": [
      "Welcome Evelyn, have a nice day!\n",
      "Welcome Jost, have a nice day!\n"
     ]
    }
   ],
   "source": [
    "#18e (15)\n",
    "\n",
    "def welcome(name):\n",
    "    print(f\"Welcome {name}, have a nice day!\")\n",
    "\n",
    "# To call the fx:\n",
    "welcome('Evelyn')\n",
    "welcome('Jost')\n",
    "\n",
    "\n",
    "\n"
   ]
  },
  {
   "cell_type": "code",
   "execution_count": 1,
   "metadata": {},
   "outputs": [
    {
     "name": "stdout",
     "output_type": "stream",
     "text": [
      "The age value 22 is not present in the list.\n"
     ]
    }
   ],
   "source": [
    "#19 Function that takes an input list and value of age to find as input and return true or false if the age value is present or not in the list.\n",
    "\n",
    "def find_age(age_list, age_value):\n",
    "    if age_value in age_list:\n",
    "        return True\n",
    "    else:\n",
    "        return False\n",
    "\n",
    "# List:\n",
    "ages = [32, 54, 27, 36, 33, 47, 10,16,28,55,35,6]\n",
    "age_to_find = 22\n",
    "\n",
    "if find_age(ages, age_to_find):\n",
    "    print(f\"The age value {age_to_find} is present in the list.\")\n",
    "else:\n",
    "    print(f\"The age value {age_to_find} is not present in the list.\")\n"
   ]
  }
 ],
 "metadata": {
  "kernelspec": {
   "display_name": "Python 3",
   "language": "python",
   "name": "python3"
  },
  "language_info": {
   "codemirror_mode": {
    "name": "ipython",
    "version": 3
   },
   "file_extension": ".py",
   "mimetype": "text/x-python",
   "name": "python",
   "nbconvert_exporter": "python",
   "pygments_lexer": "ipython3",
   "version": "3.11.2"
  },
  "orig_nbformat": 4
 },
 "nbformat": 4,
 "nbformat_minor": 2
}
