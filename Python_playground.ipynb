{
 "cells": [
  {
   "cell_type": "code",
   "execution_count": 3,
   "metadata": {},
   "outputs": [
    {
     "name": "stdout",
     "output_type": "stream",
     "text": [
      "jueves\n",
      "lunes\n",
      "['lunes', 'martes', 'miercoles']\n",
      "['lunes', 'martes', 'miercoles', 'jueves']\n",
      "['martes', 'miercoles', 'jueves']\n",
      "['miercoles', 'jueves', 'viernes']\n",
      "['miercoles', 'jueves', 'viernes']\n",
      "test\n",
      "test\n"
     ]
    }
   ],
   "source": [
    "lista = ['lunes','martes','miercoles','jueves','viernes']\n",
    "print(lista[-2])\n",
    "print(lista[0])\n",
    "print(lista[0:3])\n",
    "print(lista[:4])\n",
    "print(lista[1:4])\n",
    "print(lista[2:])\n",
    "print(lista[2:])\n",
    "\n",
    "print(\"test\")\n",
    "print(\"test\")\n",
    "\n"
   ]
  },
  {
   "cell_type": "code",
   "execution_count": 4,
   "metadata": {},
   "outputs": [
    {
     "name": "stdout",
     "output_type": "stream",
     "text": [
      "El numero es positivo\n",
      "Fin del programa\n"
     ]
    }
   ],
   "source": [
    "numero = int(input('Digite un numero: '))\n",
    "\n",
    "if numero>0:\n",
    "    print('El numero es positivo')\n",
    "\n",
    "print('Fin del programa')\n",
    "    "
   ]
  },
  {
   "cell_type": "code",
   "execution_count": 5,
   "metadata": {},
   "outputs": [
    {
     "name": "stdout",
     "output_type": "stream",
     "text": [
      "Hola\n",
      "Hola\n",
      "Hola\n",
      "Hola\n",
      "Hola\n"
     ]
    }
   ],
   "source": [
    "# Bucle for\n",
    "\n",
    "for i in [1,2,3,4,5]: \n",
    "    print('Hola')"
   ]
  },
  {
   "cell_type": "code",
   "execution_count": 6,
   "metadata": {},
   "outputs": [
    {
     "name": "stdout",
     "output_type": "stream",
     "text": [
      "Hola Mundo\n",
      "Elemento: 1\n",
      "Hola Mundo\n",
      "Elemento: 2\n",
      "Hola Mundo\n",
      "Elemento: dog\n",
      "Hola Mundo\n",
      "Elemento: 4\n",
      "Hola Mundo\n",
      "Elemento: Casa\n"
     ]
    }
   ],
   "source": [
    "# Bucle for\n",
    "\n",
    "for i in [1,2,'dog',4,'Casa']: \n",
    "    print('Hola Mundo')\n",
    "    print(f\"Elemento: {i}\")\n",
    "    "
   ]
  },
  {
   "cell_type": "code",
   "execution_count": 7,
   "metadata": {},
   "outputs": [
    {
     "name": "stdout",
     "output_type": "stream",
     "text": [
      "Hola Mundo\n",
      "Elemento: 1\n",
      "Hola Mundo\n",
      "Elemento: 2\n",
      "Hola Mundo\n",
      "Elemento: dog\n",
      "Hola Mundo\n",
      "Elemento: 4\n",
      "Hola Mundo\n",
      "Elemento: Casa\n"
     ]
    }
   ],
   "source": [
    "# Bucle for\n",
    "\n",
    "coleccion = [1,2,'dog',4,'Casa']\n",
    "\n",
    "for i in coleccion: \n",
    "    print('Hola Mundo')\n",
    "    print(f\"Elemento: {i}\")\n",
    "    "
   ]
  },
  {
   "cell_type": "code",
   "execution_count": 8,
   "metadata": {},
   "outputs": [
    {
     "name": "stdout",
     "output_type": "stream",
     "text": [
      "Elemento: Alejandro\n",
      "Elemento: Maria\n",
      "Elemento: Jose\n",
      "Elemento: Luis\n"
     ]
    }
   ],
   "source": [
    "# Bucle for\n",
    "\n",
    "coleccion = {'Alejandro':22, 'Maria':23, 'Jose':45,'Luis':12}\n",
    "\n",
    "for i in coleccion: \n",
    "    print(f\"Elemento: {i}\")"
   ]
  },
  {
   "cell_type": "code",
   "execution_count": 9,
   "metadata": {},
   "outputs": [
    {
     "name": "stdout",
     "output_type": "stream",
     "text": [
      "22\n",
      "23\n",
      "45\n",
      "12\n"
     ]
    }
   ],
   "source": [
    "# Bucle for\n",
    "\n",
    "coleccion = {'Alejandro':22, 'Maria':23, 'Jose':45,'Luis':12}\n",
    "\n",
    "for i in coleccion: \n",
    "    print(f'{coleccion[i]}')"
   ]
  },
  {
   "cell_type": "code",
   "execution_count": 10,
   "metadata": {},
   "outputs": [
    {
     "name": "stdout",
     "output_type": "stream",
     "text": [
      "Alejandro -> 22\n",
      "Maria -> 23\n",
      "Jose -> 45\n",
      "Luis -> 12\n"
     ]
    }
   ],
   "source": [
    "# Bucle for\n",
    "\n",
    "coleccion = {'Alejandro':22, 'Maria':23, 'Jose':45,'Luis':12}\n",
    "\n",
    "for i in coleccion: \n",
    "    print(f'{i} -> {coleccion[i]}')"
   ]
  },
  {
   "cell_type": "code",
   "execution_count": 11,
   "metadata": {},
   "outputs": [
    {
     "name": "stdout",
     "output_type": "stream",
     "text": [
      "Alejandro -> 22\n",
      "Maria -> 23\n",
      "Jose -> 45\n",
      "Luis -> 12\n"
     ]
    }
   ],
   "source": [
    "# Bucle for (recorriendo todos los elementos del diccionario)\n",
    "\n",
    "coleccion = {'Alejandro':22, 'Maria':23, 'Jose':45,'Luis':12}\n",
    "\n",
    "for clave,valor in coleccion.items(): \n",
    "    print(f'{clave} -> {valor}')"
   ]
  },
  {
   "cell_type": "code",
   "execution_count": 12,
   "metadata": {},
   "outputs": [
    {
     "name": "stdout",
     "output_type": "stream",
     "text": [
      "hola\n",
      "hola\n",
      "hola\n",
      "hola\n",
      "hola\n",
      "hola\n"
     ]
    }
   ],
   "source": [
    "# Bucle for (recorriendo cadenas)\n",
    "\n",
    "coleccion = 'Berlin'\n",
    "for i in coleccion: \n",
    "    print(f'hola')"
   ]
  },
  {
   "cell_type": "code",
   "execution_count": 13,
   "metadata": {},
   "outputs": [
    {
     "name": "stdout",
     "output_type": "stream",
     "text": [
      "B\n",
      "e\n",
      "r\n",
      "l\n",
      "i\n",
      "n\n"
     ]
    }
   ],
   "source": [
    "# Bucle for (recorriendo cadenas imprimiendo elemento por elemento, i= var iteradora del bucle)\n",
    "\n",
    "coleccion = 'Berlin'\n",
    "for i in coleccion: \n",
    "    print(f'{i}')"
   ]
  },
  {
   "cell_type": "code",
   "execution_count": 14,
   "metadata": {},
   "outputs": [
    {
     "name": "stdout",
     "output_type": "stream",
     "text": [
      "B e r l i n "
     ]
    }
   ],
   "source": [
    "# Igual a lo anteriro pero sin salto de linea\n",
    "# Bucle for (recorriendo cadenas imprimiendo elemento por elemento, i= var iteradora del bucle)\n",
    "\n",
    "coleccion = 'Berlin'\n",
    "for i in coleccion: \n",
    "    print(f'{i}',end=' ')\n",
    "    "
   ]
  },
  {
   "cell_type": "code",
   "execution_count": 15,
   "metadata": {},
   "outputs": [
    {
     "name": "stdout",
     "output_type": "stream",
     "text": [
      "B.e.r.l.i.n."
     ]
    }
   ],
   "source": [
    "# Igual a lo anteriro pero sin salto de linea\n",
    "# Bucle for (recorriendo cadenas imprimiendo elemento por elemento, i= var iteradora del bucle)\n",
    "\n",
    "coleccion = 'Berlin'\n",
    "for i in coleccion: \n",
    "    print(f'{i}',end='.')"
   ]
  },
  {
   "cell_type": "code",
   "execution_count": 16,
   "metadata": {},
   "outputs": [
    {
     "name": "stdout",
     "output_type": "stream",
     "text": [
      "35\n",
      "20\n",
      "24\n",
      "27\n"
     ]
    }
   ],
   "source": [
    "# create a list of ages\n",
    "ages = [35, 20, 24, 27]\n",
    "\n",
    "# iterate through the list using a for loop and print every age\n",
    "for i in ages:\n",
    "    print(i)\n"
   ]
  },
  {
   "cell_type": "code",
   "execution_count": 17,
   "metadata": {},
   "outputs": [
    {
     "name": "stdout",
     "output_type": "stream",
     "text": [
      "20\n",
      "24\n"
     ]
    }
   ],
   "source": [
    "# create a list of ages\n",
    "ages = [35, 20, 24, 27]\n",
    "\n",
    "# add a conditional inside the loop to only print even numbers\n",
    "for i in ages:\n",
    "    if i % 2 == 0:\n",
    "        print(i)"
   ]
  },
  {
   "cell_type": "code",
   "execution_count": 18,
   "metadata": {},
   "outputs": [
    {
     "name": "stdout",
     "output_type": "stream",
     "text": [
      "Edades pares:  [32, 18]\n",
      "Edades impares:  [25, 27, 21]\n"
     ]
    }
   ],
   "source": [
    "# Creamos una lista de personas con sus edades\n",
    "personas = [(\"Juan\", 25), (\"María\", 32), (\"Pedro\", 18), (\"Sofía\", 27), (\"Lucas\", 21)]\n",
    "\n",
    "# Filtramos las edades pares\n",
    "edades_pares = [edad for _, edad in personas if edad % 2 == 0]\n",
    "\n",
    "# Filtramos las edades impares\n",
    "edades_impares = [edad for _, edad in personas if edad % 2 != 0]\n",
    "\n",
    "# Imprimimos los resultados\n",
    "print(\"Edades pares: \", edades_pares)\n",
    "print(\"Edades impares: \", edades_impares)\n"
   ]
  },
  {
   "cell_type": "code",
   "execution_count": 19,
   "metadata": {},
   "outputs": [
    {
     "name": "stdout",
     "output_type": "stream",
     "text": [
      "2 es par\n"
     ]
    }
   ],
   "source": [
    "num1 = int(input(\"Digite un numero: \"))\n",
    "num2 = int(input(\"Digite otro numero: \"))\n",
    "\n",
    "if num1 % 2 == 0 and num2 % 2 == 0:\n",
    "    print('Ambos numeros son pares')\n",
    "elif num1 % 2 == 0 and num2 % 2 != 0:\n",
    "    print(f'{num1} es par')\n",
    "elif num1 % 2 != 0 and num2 % 2 == 0:\n",
    "    print(f\"{num2} es par\")\n",
    "else:\n",
    "    print(\"Ambos numeros son impares\")\n",
    "\n",
    "\n",
    "\n"
   ]
  },
  {
   "cell_type": "code",
   "execution_count": 20,
   "metadata": {},
   "outputs": [
    {
     "name": "stdout",
     "output_type": "stream",
     "text": [
      "Juan tiene 24 años.\n",
      "La edad es par.\n",
      "María tiene 19 años.\n",
      "La edad es impar.\n",
      "Pedro tiene 31 años.\n",
      "La edad es impar.\n",
      "Luisa tiene 27 años.\n",
      "La edad es impar.\n",
      "Andrés tiene 22 años.\n",
      "La edad es par.\n"
     ]
    }
   ],
   "source": [
    "# Creamos la lista de personas y edades / While loop\n",
    "\n",
    "personas_edades = [('Juan', 24), ('María', 19), ('Pedro', 31), ('Luisa', 27), ('Andrés', 22)]\n",
    "\n",
    "# Imprimimos las edades separadas en números pares e impares\n",
    "i = 0\n",
    "while i < len(personas_edades):\n",
    "    edad = personas_edades[i][1]\n",
    "    print(f\"{personas_edades[i][0]} tiene {edad} años.\")\n",
    "    if edad % 2 == 0:\n",
    "        print(\"La edad es par.\")\n",
    "    else:\n",
    "        print(\"La edad es impar.\")\n",
    "    i += 1\n"
   ]
  },
  {
   "cell_type": "code",
   "execution_count": 21,
   "metadata": {},
   "outputs": [
    {
     "name": "stdout",
     "output_type": "stream",
     "text": [
      "María\n"
     ]
    }
   ],
   "source": [
    "personas_edades = [('Juan', 24), ('María', 19), ('Pedro', 31), ('Luisa', 27), ('Andrés', 22)]\n",
    "print(personas_edades[1][0])"
   ]
  },
  {
   "cell_type": "code",
   "execution_count": 22,
   "metadata": {},
   "outputs": [
    {
     "name": "stdout",
     "output_type": "stream",
     "text": [
      "Edades pares:\n",
      "[24, 22]\n",
      "Edades impares:\n",
      "[19, 31, 27]\n"
     ]
    }
   ],
   "source": [
    "\n",
    "#  En este código, creamos dos listas vacías llamadas edades_pares y edades_impares. Luego, iteramos a través de la lista personas_edades y agregamos cada edad a la lista correspondiente (edades_pares si la edad es par, edades_impares si la edad es impar). Finalmente, imprimimos las dos listas de edades separadas en números pares e impares.\n",
    "\n",
    "\n",
    "# Creamos la lista de personas y edades\n",
    "personas_edades = [('Juan', 24), ('María', 19), ('Pedro', 31), ('Luisa', 27), ('Andrés', 22)]\n",
    "\n",
    "# Creamos dos listas vacías para almacenar las edades pares e impares\n",
    "edades_pares = []\n",
    "edades_impares = []\n",
    "\n",
    "# Iteramos a través de la lista de personas y edades\n",
    "for persona, edad in personas_edades:\n",
    "    # Agregamos la edad a la lista correspondiente\n",
    "    if edad % 2 == 0:\n",
    "        edades_pares.append(edad)\n",
    "    else:\n",
    "        edades_impares.append(edad)\n",
    "\n",
    "# Imprimimos las listas de edades pares e impares\n",
    "print(\"Edades pares:\")\n",
    "print(edades_pares)\n",
    "print(\"Edades impares:\")\n",
    "print(edades_impares)\n"
   ]
  },
  {
   "cell_type": "code",
   "execution_count": 23,
   "metadata": {},
   "outputs": [
    {
     "name": "stdout",
     "output_type": "stream",
     "text": [
      "Edades pares:\n",
      "[24, 22]\n",
      "Edades impares:\n",
      "[19, 31, 27]\n"
     ]
    }
   ],
   "source": [
    "# LOOP WHILE\n",
    "\n",
    "# Creamos la lista de personas y edades\n",
    "personas_edades = [('Juan', 24), ('María', 19), ('Pedro', 31), ('Luisa', 27), ('Andrés', 22)]\n",
    "\n",
    "# Creamos dos listas vacías para almacenar las edades pares e impares\n",
    "edades_pares = []\n",
    "edades_impares = []\n",
    "\n",
    "# Iteramos a través de la lista de personas y edades\n",
    "i = 0\n",
    "while i < len(personas_edades):\n",
    "    edad = personas_edades[i][1]\n",
    "    # Agregamos la edad a la lista correspondiente\n",
    "    if edad % 2 == 0:\n",
    "        edades_pares.append(edad)\n",
    "    else:\n",
    "        edades_impares.append(edad)\n",
    "    i += 1\n",
    "\n",
    "# Imprimimos las listas de edades pares e impares\n",
    "print(\"Edades pares:\")\n",
    "print(edades_pares)\n",
    "print(\"Edades impares:\")\n",
    "print(edades_impares)\n",
    "\n",
    "\n",
    "# En este código, utilizamos un loop while para iterar a través de la lista personas_edades. En cada iteración, verificamos si la edad es par o impar y la agregamos a la lista correspondiente (edades_pares o edades_impares). Finalmente, imprimimos las dos listas de edades separadas en números pares e impares."
   ]
  },
  {
   "cell_type": "code",
   "execution_count": 24,
   "metadata": {},
   "outputs": [
    {
     "name": "stdout",
     "output_type": "stream",
     "text": [
      "La persona más joven es Max con una edad de 20\n"
     ]
    }
   ],
   "source": [
    "#8 Ejercicio 8 M1S2 - Edad Menor\n",
    "\n",
    "\n",
    "personas_edades = [('Nestor', 22), ('Carmen', 25), ('Max', 20), ('Sian', 24), ('Sergio', 25), ('Natalie',25), ('Marta',26), ('Alireza',25), ('Sonja',24), ('Melissa', 23), ('Sabir', 22), ('Liudmyla',21), ('Phuoc',20)]\n",
    "\n",
    "# Inicializamos la variable \"edad_minima\" con el valor de edad de la primera persona de la lista\n",
    "edad_minima = personas_edades[0][1]\n",
    "\n",
    "# Inicializamos la variable \"persona_joven\" con la primera persona de la lista\n",
    "persona_joven = personas_edades[0]\n",
    "\n",
    "# Iteramos a través de la lista de personas y edades\n",
    "for persona in personas_edades:\n",
    "    # Si la edad de la persona actual es menor que la edad mínima\n",
    "    if persona[1] < edad_minima:\n",
    "        # Actualizamos la edad mínima y la persona más joven\n",
    "        edad_minima = persona[1]\n",
    "        persona_joven = persona\n",
    "\n",
    "# Imprimimos el nombre y la edad de la persona más joven\n",
    "print(\"La persona más joven es\", persona_joven[0], \"con una edad de\", persona_joven[1])\n",
    "\n",
    "# Este programa primero inicializa las variables \"edad_minima\" y \"persona_joven\" con la edad y el nombre de la primera persona en la lista. Luego, itera a través de la lista de personas y edades, comparando la edad de cada persona con la edad mínima actual. Si encuentra una persona más joven, actualiza la edad mínima y la persona más joven. Finalmente, imprime el nombre y la edad de la persona más joven."
   ]
  },
  {
   "cell_type": "code",
   "execution_count": 25,
   "metadata": {},
   "outputs": [
    {
     "name": "stdout",
     "output_type": "stream",
     "text": [
      "La persona más joven es Max con una edad de 20\n"
     ]
    }
   ],
   "source": [
    "# Variante con la fx min (pero muestra solo 1 de 2 edades min de 20)\n",
    "\n",
    "personas_edades = [('Nestor', 22), ('Carmen', 25), ('Max', 20), ('Sian', 24), ('Sergio', 25), ('Natalie',25), ('Marta',26), ('Alireza',25), ('Sonja',24), ('Melissa', 23), ('Sabir', 22), ('Liudmyla',21), ('Phuoc',20)]\n",
    "\n",
    "# Usamos la función \"min()\" para encontrar la persona con la edad mínima\n",
    "persona_joven = min(personas_edades, key=lambda x: x[1])\n",
    "\n",
    "# Imprimimos el nombre y la edad de la persona más joven\n",
    "print(\"La persona más joven es\", persona_joven[0], \"con una edad de\", persona_joven[1])\n",
    "\n",
    "#En este código, usamos la función min() para encontrar la persona con la edad mínima en la lista de personas y edades. La función min() toma dos argumentos: la lista de elementos a comparar (en este caso, la lista de personas y edades) y una función key que especifica cómo comparar los elementos. En este caso, la función lambda x: x[1] especifica que queremos comparar los elementos por la edad, que está en la segunda posición de cada tupla. La función min() devuelve la persona con la edad mínima, que luego se almacena en la variable persona_joven. Finalmente, imprimimos el nombre y la edad de la persona más joven."
   ]
  },
  {
   "cell_type": "code",
   "execution_count": 26,
   "metadata": {},
   "outputs": [
    {
     "name": "stdout",
     "output_type": "stream",
     "text": [
      "Las personas más jóvenes son:\n",
      "Max con una edad de 20\n",
      "Phuoc con una edad de 20\n",
      "Maddie con una edad de 20\n"
     ]
    }
   ],
   "source": [
    "# Lo anterior, pero mostrando todas las edades min\n",
    "\n",
    "personas_edades = [('Nestor', 22), ('Carmen', 25), ('Max', 20), ('Sian', 24), ('Sergio', 25), ('Natalie',25), ('Marta',26), ('Alireza',25), ('Sonja',24), ('Melissa', 23), ('Sabir', 22), ('Liudmyla',21), ('Phuoc',20), ('Maddie',20)]\n",
    "\n",
    "# Encontramos la edad mínima\n",
    "edad_minima = min(personas_edades, key=lambda x: x[1])[1]\n",
    "\n",
    "# Creamos una lista vacía para almacenar todas las personas con la edad mínima\n",
    "personas_jovenes = []\n",
    "\n",
    "# Recorremos la lista de personas y edades y agregamos a la lista \"personas_jovenes\" todas las personas que tengan la edad mínima\n",
    "for persona in personas_edades:\n",
    "    if persona[1] == edad_minima:\n",
    "        personas_jovenes.append(persona)\n",
    "\n",
    "# Imprimimos el nombre y la edad de todas las personas que tengan la edad mínima\n",
    "print(\"Las personas más jóvenes son:\")\n",
    "for persona in personas_jovenes:\n",
    "    print(persona[0], \"con una edad de\", persona[1])\n",
    "\n",
    "#En este código, encontramos la edad mínima utilizando la misma función min() que antes. Luego, creamos una lista vacía personas_jovenes para almacenar todas las personas que tengan la edad mínima. Utilizamos un bucle for para recorrer la lista de personas y edades y agregamos a la lista personas_jovenes todas las personas que tengan la edad mínima. Finalmente, utilizamos otro bucle for para imprimir el nombre y la edad de todas las personas en la lista personas_jovenes.\n"
   ]
  },
  {
   "cell_type": "code",
   "execution_count": 27,
   "metadata": {},
   "outputs": [
    {
     "name": "stdout",
     "output_type": "stream",
     "text": [
      "Hay 3 persona(s) más joven(es):\n",
      "Max con una edad de 20\n",
      "Phuoc con una edad de 20\n",
      "Maddie con una edad de 20\n"
     ]
    }
   ],
   "source": [
    "# Otra forma de lo anterior (todas las edades min)\n",
    "\n",
    "personas_edades = [('Nestor', 22), ('Carmen', 25), ('Max', 20), ('Sian', 24), ('Sergio', 25), ('Natalie',25), ('Marta',26), ('Alireza',25), ('Sonja',24), ('Melissa', 23), ('Sabir', 22), ('Liudmyla',21), ('Phuoc',20), ('Maddie',20)]\n",
    "\n",
    "# Encontramos la edad mínima\n",
    "edad_minima = min(personas_edades, key=lambda x: x[1])[1]\n",
    "\n",
    "# Creamos una lista vacía para almacenar todas las personas con la edad mínima\n",
    "personas_jovenes = []\n",
    "\n",
    "# Recorremos la lista de personas y edades y agregamos a la lista \"personas_jovenes\" todas las personas que tengan la edad mínima\n",
    "for persona in personas_edades:\n",
    "    if persona[1] == edad_minima:\n",
    "        personas_jovenes.append(persona)\n",
    "\n",
    "# Contamos la cantidad de personas que tienen la edad mínima\n",
    "cantidad_personas_jovenes = len(personas_jovenes)\n",
    "\n",
    "# Imprimimos la cantidad de personas y luego el nombre y la edad de cada una\n",
    "print(\"Hay\", cantidad_personas_jovenes, \"persona(s) más joven(es):\")\n",
    "for persona in personas_jovenes:\n",
    "    print(persona[0], \"con una edad de\", persona[1])\n",
    "\n",
    "# En este código, encontramos la edad mínima de la misma forma que en el código anterior. Luego, creamos una lista vacía personas_jovenes para almacenar todas las personas que tengan la edad mínima, y utilizamos un bucle for para agregar todas las personas con la edad mínima a esta lista. Luego, contamos la cantidad de personas en la lista personas_jovenes utilizando la función len(), y almacenamos el resultado en la variable cantidad_personas_jovenes. Finalmente, imprimimos la cantidad de personas y luego el nombre y la edad de cada una de ellas.\n"
   ]
  },
  {
   "cell_type": "code",
   "execution_count": 28,
   "metadata": {},
   "outputs": [
    {
     "name": "stdout",
     "output_type": "stream",
     "text": [
      "El valor máximo de la lista es: 20\n"
     ]
    }
   ],
   "source": [
    "# Lista de numeros enteros para seleccionar el valor max.\n",
    "\n",
    "# Crear la lista de números enteros\n",
    "numeros_enteros = [7, 12, 9, 3, 20, 6, 1, 15, 13, 8, 17, 4, 11]\n",
    "\n",
    "# Mostrar el valor máximo de la lista\n",
    "print(\"El valor máximo de la lista es:\", max(numeros_enteros))"
   ]
  },
  {
   "cell_type": "code",
   "execution_count": 29,
   "metadata": {},
   "outputs": [
    {
     "name": "stdout",
     "output_type": "stream",
     "text": [
      "Customer's age is: 26\n",
      "Customer's age is: 30\n",
      "Customer's age is: 20\n",
      "Customer's age is: 15\n",
      "Customer's age is: 18\n",
      "Customer's age is: 19\n",
      "Customer's age is: 31\n",
      "Customer's age is: 29\n",
      "Customer's age is: 46\n",
      "Customer's age is: 17\n"
     ]
    }
   ],
   "source": [
    "# Import the datetime module\n",
    "import datetime\n",
    "\n",
    "# List of customers' birth years\n",
    "birth_years = [1999, 1995, 2005, 2010, 2007, 2006, 1994, 1996, 1979, 2008]\n",
    "\n",
    "# Loop through each birth year and print the age of the customer\n",
    "for year in birth_years:\n",
    "    age = datetime.datetime.now().year - year\n",
    "    print(\"Customer's age is:\", age)\n",
    "\n",
    "# In this example, the datetime module is imported to get the current year. The list birth_years contains the birth years of 10 customers. The loop iterates through each birth year, subtracts it from the current year using the datetime.datetime.now().year method to get the age of the customer, and prints it out using the print() function.\n"
   ]
  },
  {
   "cell_type": "code",
   "execution_count": 30,
   "metadata": {},
   "outputs": [
    {
     "name": "stdout",
     "output_type": "stream",
     "text": [
      "Bob is 24 years old\n",
      "Jack is 28 years old\n",
      "Lisa is 18 years old\n",
      "Maria is 13 years old\n",
      "Ben is 16 years old\n",
      "Emma is 17 years old\n",
      "Oscar is 29 years old\n",
      "Amy is 27 years old\n",
      "Paul is 44 years old\n",
      "Etta is 15 years old\n"
     ]
    }
   ],
   "source": [
    "# 1/3 Python code to achieve the desired output using a loop:\n",
    "\n",
    "customer_list = [{\"name\": \"Bob\", \"age\": 1999}, {\"name\": \"Jack\", \"age\": 1995}, {\"name\": \"Lisa\", \"age\": 2005}, {\"name\": \"Maria\", \"age\": 2010}, {\"name\": \"Ben\", \"age\": 2007}, {\"name\": \"Emma\", \"age\": 2006}, {\"name\": \"Oscar\", \"age\": 1994}, {\"name\": \"Amy\", \"age\": 1996}, {\"name\": \"Paul\", \"age\": 1979}, {\"name\": \"Etta\", \"age\": 2008}]\n",
    "\n",
    "for customer in customer_list:\n",
    "    print(customer[\"name\"], \"is\", 2023 - customer[\"age\"], \"years old\")\n",
    "\n",
    "#Here, we have used a for loop to iterate over the customer_list. For each customer, we have accessed their name and age using the dictionary keys \"name\" and \"age\", respectively. Finally, we have printed their name and age by formatting the output string using their details.\n"
   ]
  },
  {
   "cell_type": "code",
   "execution_count": 31,
   "metadata": {},
   "outputs": [
    {
     "name": "stdout",
     "output_type": "stream",
     "text": [
      "Bob is 24 years old.\n",
      "Jack is 28 years old.\n",
      "Lisa is 18 years old.\n",
      "Maria is 13 years old.\n",
      "Ben is 16 years old.\n",
      "Emma is 17 years old.\n",
      "Oscar is 29 years old.\n",
      "Amy is 27 years old.\n",
      "Paul is 44 years old.\n",
      "Etta is 15 years old.\n"
     ]
    }
   ],
   "source": [
    "# 2/3 Loop to iterate over the list and print the name and age of each customer.\n",
    "\n",
    "customer_list = [{\"name\": \"Bob\", \"age\": 1999}, {\"name\": \"Jack\", \"age\": 1995}, {\"name\": \"Lisa\", \"age\": 2005}, {\"name\": \"Maria\", \"age\": 2010}, {\"name\": \"Ben\", \"age\": 2007}, {\"name\": \"Emma\", \"age\": 2006}, {\"name\": \"Oscar\", \"age\": 1994}, {\"name\": \"Amy\", \"age\": 1996}, {\"name\": \"Paul\", \"age\": 1979}, {\"name\": \"Etta\", \"age\": 2008}]\n",
    "\n",
    "for customer in customer_list:\n",
    "    print(f\"{customer['name']} is {2023 - customer['age']} years old.\")\n"
   ]
  },
  {
   "cell_type": "code",
   "execution_count": 32,
   "metadata": {},
   "outputs": [
    {
     "name": "stdout",
     "output_type": "stream",
     "text": [
      "Bob is 24 years old.\n",
      "Jack is 28 years old.\n",
      "Lisa is 18 years old.\n",
      "Maria is 13 years old.\n",
      "Ben is 16 years old.\n",
      "Emma is 17 years old.\n",
      "Oscar is 29 years old.\n",
      "Amy is 27 years old.\n",
      "Paul is 44 years old.\n",
      "Etta is 15 years old.\n"
     ]
    }
   ],
   "source": [
    "# 3/3\n",
    "\n",
    "customer_list = [{\"name\": \"Bob\", \"age\": 1999}, {\"name\": \"Jack\", \"age\": 1995}, {\"name\": \"Lisa\", \"age\": 2005}, {\"name\": \"Maria\", \"age\": 2010}, {\"name\": \"Ben\", \"age\": 2007}, {\"name\": \"Emma\", \"age\": 2006}, {\"name\": \"Oscar\", \"age\": 1994}, {\"name\": \"Amy\", \"age\": 1996}, {\"name\": \"Paul\", \"age\": 1979}, {\"name\": \"Etta\", \"age\": 2008}]\n",
    "\n",
    "for customer in customer_list:\n",
    "    print(f\"{customer['name']} is {2023 - customer['age']} years old.\")\n",
    "\n",
    "#Note that I used 2023 as the current year to calculate the age of each customer. You may need to modify this depending on the current year when you run the code.\n"
   ]
  },
  {
   "cell_type": "code",
   "execution_count": 33,
   "metadata": {},
   "outputs": [
    {
     "name": "stdout",
     "output_type": "stream",
     "text": [
      "[20, 24, 14, 12, 13, 25, 23, 11]\n"
     ]
    }
   ],
   "source": [
    "# To remove the youngest and the oldest person from the ages list without using the max() and min() methods:\n",
    "\n",
    "ages = [20, 24, 14, 9, 12, 13, 25, 23, 40, 11]\n",
    "\n",
    "# Find the index of the youngest and oldest person in the list\n",
    "youngest_index = 0\n",
    "oldest_index = 0\n",
    "\n",
    "# 0 es para comenzar el recorrido le la idexacion en desde la posicion 0\n",
    "\n",
    "for i in range(len(ages)):\n",
    "    if ages[i] < ages[youngest_index]:\n",
    "        youngest_index = i\n",
    "    if ages[i] > ages[oldest_index]:\n",
    "        oldest_index = i\n",
    "\n",
    "# Remove the youngest and oldest person from the list\n",
    "if youngest_index < oldest_index:\n",
    "    del ages[oldest_index]\n",
    "    del ages[youngest_index]\n",
    "else:\n",
    "    del ages[youngest_index]\n",
    "    del ages[oldest_index]\n",
    "\n",
    "print(ages)\n",
    "\n",
    "# Note that if there are multiple people with the same age as the youngest or oldest person, this code will only remove the first occurrence of that age in the list.\n"
   ]
  },
  {
   "cell_type": "code",
   "execution_count": 34,
   "metadata": {},
   "outputs": [
    {
     "name": "stdout",
     "output_type": "stream",
     "text": [
      "[15, 13, 16, 18, 19, 10]\n"
     ]
    }
   ],
   "source": [
    "# Common Values (13)\n",
    "\n",
    "Berlin = [15, 13, 16, 18, 19, 10, 12]\n",
    "Munich = [7, 13, 15, 20, 19, 18, 10, 16]\n",
    "\n",
    "common_ages = []\n",
    "for age in Berlin:\n",
    "    if age in Munich and age not in common_ages:\n",
    "        common_ages.append(age)\n",
    "\n",
    "print(common_ages)\n"
   ]
  },
  {
   "cell_type": "code",
   "execution_count": 35,
   "metadata": {},
   "outputs": [
    {
     "name": "stdout",
     "output_type": "stream",
     "text": [
      "[15, 13, 16, 18, 19, 10]\n"
     ]
    }
   ],
   "source": [
    "# To remove the duplicates from the list of ages:\n",
    "\n",
    "ages = [15, 13, 16, 18, 19, 15, 10]\n",
    "unique_ages = []\n",
    "\n",
    "for age in ages:\n",
    "    if age not in unique_ages:\n",
    "        unique_ages.append(age)\n",
    "\n",
    "print(unique_ages)\n",
    "\n",
    "#Note that the order of the ages in the unique_ages list may not be the same as in the original ages list, as the append() method adds each age to the end of the list."
   ]
  },
  {
   "cell_type": "code",
   "execution_count": 36,
   "metadata": {},
   "outputs": [
    {
     "name": "stdout",
     "output_type": "stream",
     "text": [
      "Welcome adasdasd, have a nice day!\n"
     ]
    }
   ],
   "source": [
    "# Fx\n",
    "\n",
    "def welcome(name):\n",
    "    print(f\"Welcome {name}, have a nice day!\")\n",
    "\n",
    "welcome('adasdasd')\n"
   ]
  },
  {
   "cell_type": "code",
   "execution_count": 37,
   "metadata": {},
   "outputs": [
    {
     "name": "stdout",
     "output_type": "stream",
     "text": [
      "5\n",
      "2\n",
      "8\n",
      "5\n"
     ]
    }
   ],
   "source": [
    "# Python function that takes a string as input and returns its length using the len() function:\n",
    "\n",
    "def get_length(input_string):\n",
    "    return len(input_string)\n",
    "\n",
    "print(get_length('Hello'))\n",
    "\n",
    "print(get_length('Hi'))     \n",
    "\n",
    "print(len('Alemania'))  # Output: 5\n",
    "\n",
    "print(len('Chile'))     # Output: 2"
   ]
  },
  {
   "cell_type": "code",
   "execution_count": 38,
   "metadata": {},
   "outputs": [
    {
     "name": "stdout",
     "output_type": "stream",
     "text": [
      "Yes\n",
      "No\n",
      "Yes\n",
      "Yes\n",
      "No\n"
     ]
    }
   ],
   "source": [
    "#  A function which checks whether a number is even. Using modulus operators.\n",
    "\n",
    "def check_even(num):\n",
    "    if num % 2 == 0:\n",
    "        return \"Yes\"\n",
    "    else:\n",
    "        return \"No\"\n",
    "\n",
    "print(check_even(6)) # Output: Yes\n",
    "print(check_even(5)) # Output: No\n",
    "print(check_even(0)) # Output: Yes\n",
    "print(check_even(-6)) # Output: Yes\n",
    "print(check_even(-5)) # Output: No\n"
   ]
  },
  {
   "cell_type": "code",
   "execution_count": 39,
   "metadata": {},
   "outputs": [
    {
     "name": "stdout",
     "output_type": "stream",
     "text": [
      "Bob is 24 years old\n",
      "Jack is 28 years old\n",
      "Lisa is 18 years old\n",
      "Maria is 13 years old\n",
      "Ben is 16 years old\n",
      "Emma is 17 years old\n",
      "Oscar is 29 years old\n",
      "Amy is 27 years old\n",
      "Paul is 44 years old\n",
      "Etta is 15 years old\n"
     ]
    }
   ],
   "source": [
    "#Here's a Python function that takes a list of customers and prints their names and ages:\n",
    "\n",
    "def print_customer_ages(customers):\n",
    "    current_year = 2023\n",
    "    for customer in customers:\n",
    "        name = customer[\"name\"]\n",
    "        age = current_year - customer[\"age\"]\n",
    "        print(name, \"is\", age, \"years old\")\n",
    "\n",
    "#This function takes a parameter customers, which is a list of dictionaries containing customer information. It then loops through each customer in the list and calculates their age by subtracting their birth year from the current year (2023). Finally, it prints out the customer's name and age using the print() function.Here's how you can use this function with the customer_list from your example:\n",
    "\n",
    "customer_list = [{\"name\": \"Bob\", \"age\": 1999}, {\"name\": \"Jack\", \"age\": 1995}, {\"name\": \"Lisa\", \"age\": 2005}, {\"name\": \"Maria\", \"age\": 2010}, {\"name\": \"Ben\", \"age\": 2007}, {\"name\": \"Emma\", \"age\": 2006}, {\"name\": \"Oscar\", \"age\": 1994}, {\"name\": \"Amy\", \"age\": 1996}, {\"name\": \"Paul\", \"age\": 1979}, {\"name\": \"Etta\", \"age\": 2008}]\n",
    "\n",
    "print_customer_ages(customer_list)\n"
   ]
  },
  {
   "cell_type": "code",
   "execution_count": 40,
   "metadata": {},
   "outputs": [
    {
     "name": "stdout",
     "output_type": "stream",
     "text": [
      "Bob is 24 years old\n",
      "Jack is 28 years old\n",
      "Lisa is 18 years old\n",
      "Maria is 13 years old\n",
      "Ben is 16 years old\n",
      "Emma is 17 years old\n",
      "Oscar is 29 years old\n",
      "Amy is 27 years old\n",
      "Paul is 44 years old\n",
      "Etta is 15 years old\n"
     ]
    }
   ],
   "source": [
    "#18a -#11- as a function\n",
    "\n",
    "def print_customer_ages(customer_list):\n",
    "    for i in customer_list:\n",
    "        print(i[\"name\"], \"is\", 2023 - i[\"age\"], \"years old\")\n",
    "\n",
    "# This function takes in a list of customer dictionaries as a parameter, and then loops through each dictionary, printing out the customer's name and age based on the current year (2023 in this case). To call the function, you can pass in the customer_list variable:\n",
    "\n",
    "customer_list = [{\"name\": \"Bob\", \"age\": 1999}, {\"name\": \"Jack\", \"age\": 1995}, {\"name\": \"Lisa\", \"age\": 2005}, {\"name\": \"Maria\", \"age\": 2010}, {\"name\": \"Ben\", \"age\": 2007}, {\"name\": \"Emma\", \"age\": 2006}, {\"name\": \"Oscar\", \"age\": 1994}, {\"name\": \"Amy\", \"age\": 1996}, {\"name\": \"Paul\", \"age\": 1979}, {\"name\": \"Etta\", \"age\": 2008}]\n",
    "\n",
    "print_customer_ages(customer_list)\n",
    "\n"
   ]
  },
  {
   "cell_type": "code",
   "execution_count": 41,
   "metadata": {},
   "outputs": [
    {
     "name": "stdout",
     "output_type": "stream",
     "text": [
      "[20, 24, 14, 12, 13, 25, 23, 11]\n"
     ]
    }
   ],
   "source": [
    "#18b -#12- as a function\n",
    "\n",
    "def remove_youngest_and_oldest(ages):\n",
    "    youngest_index = 0\n",
    "    oldest_index = 0\n",
    "    for i in range(len(ages)):\n",
    "        if ages[i] < ages[youngest_index]:\n",
    "            youngest_index = i\n",
    "        if ages[i] > ages[oldest_index]:\n",
    "            oldest_index = i\n",
    "\n",
    "    if youngest_index < oldest_index:\n",
    "        del ages[oldest_index]\n",
    "        del ages[youngest_index]\n",
    "    else:\n",
    "        del ages[youngest_index]\n",
    "        del ages[oldest_index]\n",
    "\n",
    "    return ages\n",
    "\n",
    "#This function takes in a list of ages as a parameter, and then loops through each age to find the index of the youngest and oldest ages. It then removes these ages from the list and returns the updated list.\n",
    "#To call the function, you can pass in the ages list:\n",
    "\n",
    "ages = [20, 24, 14, 9, 12, 13, 25, 23, 40, 11]\n",
    "new_ages = remove_youngest_and_oldest(ages)\n",
    "print(new_ages)\n",
    "\n"
   ]
  },
  {
   "cell_type": "code",
   "execution_count": 42,
   "metadata": {},
   "outputs": [
    {
     "name": "stdout",
     "output_type": "stream",
     "text": [
      "[15, 13, 16, 18, 19, 10]\n"
     ]
    }
   ],
   "source": [
    "#18c -#13- as a function:\n",
    "\n",
    "def find_common_ages(city1, city2):\n",
    "    common_ages = []\n",
    "    for i in city1:\n",
    "        if i in city2 and i not in common_ages:\n",
    "            common_ages.append(i)\n",
    "    return common_ages\n",
    "\n",
    "# Example usage:\n",
    "Berlin = [15, 13, 16, 18, 19, 10, 12]\n",
    "Munich = [7, 13, 15, 20, 19, 18, 10, 16]\n",
    "\n",
    "common_ages = find_common_ages(Berlin, Munich)\n",
    "print(common_ages)\n",
    "\n",
    "#This function takes two lists as input arguments, and returns a list of their common elements (ages) without duplicates. The if statement in the loop checks if the current element is in the second list (city2) and hasn't been added to the common_ages list yet. If so, it adds the element to the list. The function then returns the common_ages list.\n"
   ]
  },
  {
   "cell_type": "code",
   "execution_count": 43,
   "metadata": {},
   "outputs": [
    {
     "name": "stdout",
     "output_type": "stream",
     "text": [
      "[15, 13, 16, 18, 19, 10]\n"
     ]
    }
   ],
   "source": [
    "#18d -#14- as a function:\n",
    "\n",
    "def get_unique_ages(ages):\n",
    "    unique_ages = []\n",
    "    for i in ages:\n",
    "        if i not in unique_ages:\n",
    "            unique_ages.append(i)\n",
    "    return unique_ages\n",
    "\n",
    "# Example usage:\n",
    "ages = [15, 13, 16, 18, 19, 15, 10]\n",
    "unique_ages = get_unique_ages(ages)\n",
    "print(unique_ages)\n",
    "\n",
    "#This function takes a list of ages as input, and returns a list of unique ages without duplicates. The if statement checks if the current age (i) is not already in the unique_ages list, and if so, it adds it to the list. The function then returns the unique_ages list.\n"
   ]
  },
  {
   "cell_type": "code",
   "execution_count": 44,
   "metadata": {},
   "outputs": [
    {
     "name": "stdout",
     "output_type": "stream",
     "text": [
      "Welcome Evelyn, have a nice day!\n",
      "Welcome Jost, have a nice day!\n"
     ]
    }
   ],
   "source": [
    "#18e -#15- as a function:\n",
    "\n",
    "def welcome(name):\n",
    "    print(f\"Welcome {name}, have a nice day!\")\n",
    "\n",
    "# Example usage:\n",
    "welcome('Evelyn')\n",
    "welcome('Jost')\n",
    "\n",
    "#This function takes a name as input, and prints a personalized welcome message to the console using string formatting. The print statement outputs the message with the provided name. You can call this function with any name you like.\n"
   ]
  },
  {
   "cell_type": "code",
   "execution_count": 45,
   "metadata": {},
   "outputs": [
    {
     "name": "stdout",
     "output_type": "stream",
     "text": [
      "The age value 16 is present in the list.\n"
     ]
    }
   ],
   "source": [
    "#19 Function that takes an input list and value of age to find as input and return true or false if the age value is present or not in the list.\n",
    "\n",
    "def find_age(age_list, age_value):\n",
    "    if age_value in age_list:\n",
    "        return True\n",
    "    else:\n",
    "        return False\n",
    "\n",
    "# Example usage:\n",
    "ages = [15, 13, 16, 18, 19, 15, 10]\n",
    "age_to_find = 16\n",
    "\n",
    "if find_age(ages, age_to_find):\n",
    "    print(f\"The age value {age_to_find} is present in the list.\")\n",
    "else:\n",
    "    print(f\"The age value {age_to_find} is not present in the list.\")\n",
    "\n",
    "# In this function, the age_list argument is the input list of ages, and the age_value argument is the age value to search for. The if statement checks if the age_value is present in the age_list, and returns True if it is, and False otherwise. You can call this function with any input list and age value you like.\n"
   ]
  },
  {
   "cell_type": "code",
   "execution_count": 46,
   "metadata": {},
   "outputs": [
    {
     "name": "stdout",
     "output_type": "stream",
     "text": [
      "The younger person is Max with 20 years old\n"
     ]
    }
   ],
   "source": [
    "#8**\n",
    "\n",
    "\n",
    "personas_edades = [('Nestor', 22), ('Carmen', 25), ('Max', 20), ('Sian', 24), ('Sergio', 25), ('Natalie',25), ('Marta',26), ('Alireza',25), ('Sonja',24), ('Melissa', 23), ('Sabir', 22), ('Liudmyla',21), ('Phuoc',20)]\n",
    "\n",
    "# Inicializamos la variable \"edad_minima\" con el valor de edad de la primera persona de la lista\n",
    "edad_minima = personas_edades[0][1]\n",
    "\n",
    "# Inicializamos la variable \"persona_joven\" con la primera persona de la lista\n",
    "persona_joven = personas_edades[0]\n",
    "\n",
    "# Iteramos a través de la lista de personas y edades\n",
    "for persona in personas_edades:\n",
    "    # Si la edad de la persona actual es menor que la edad mínima\n",
    "    if persona[1] < edad_minima:\n",
    "        # Actualizamos la edad mínima y la persona más joven\n",
    "        edad_minima = persona[1]\n",
    "        persona_joven = persona\n",
    "\n",
    "# Imprimimos el nombre y la edad de la persona más joven\n",
    "print(\"The younger person is\", persona_joven[0], \"with\", persona_joven[1], 'years old')\n"
   ]
  },
  {
   "cell_type": "code",
   "execution_count": 47,
   "metadata": {},
   "outputs": [
    {
     "name": "stdout",
     "output_type": "stream",
     "text": [
      "Bob 24\n",
      "Bob is 24 years old.\n",
      "Jack 28\n",
      "Jack is 28 years old.\n",
      "Lisa 18\n",
      "Lisa is 18 years old.\n",
      "Maria 13\n",
      "Maria is 13 years old.\n",
      "Ben 16\n",
      "Ben is 16 years old.\n",
      "Emma 17\n",
      "Emma is 17 years old.\n",
      "Oscar 29\n",
      "Oscar is 29 years old.\n",
      "Amy 27\n",
      "Amy is 27 years old.\n",
      "Paul 44\n",
      "Paul is 44 years old.\n",
      "Etta 15\n",
      "Etta is 15 years old.\n"
     ]
    }
   ],
   "source": [
    "#11 M1S2\n",
    "\n",
    "#Tanusree Chaudhuri, 11:12 AM\n",
    "# Given info:-\n",
    "customer_list = [\n",
    "                    {\"name\": \"Bob\", \"age\": 1999},\n",
    "                    {\"name\": \"Jack\", \"age\": 1995},\n",
    "                    {\"name\": \"Lisa\", \"age\": 2005},\n",
    "                    {\"name\": \"Maria\", \"age\": 2010},\n",
    "                    {\"name\": \"Ben\", \"age\": 2007},\n",
    "                    {\"name\": \"Emma\", \"age\": 2006},\n",
    "                    {\"name\": \"Oscar\", \"age\": 1994},\n",
    "                    {\"name\": \"Amy\", \"age\": 1996},\n",
    "                    {\"name\": \"Paul\", \"age\": 1979},\n",
    "                    {\"name\": \"Etta\", \"age\": 2008}\n",
    "                ]\n",
    "\n",
    "# To execute:-\n",
    "# print name and age with loop\n",
    "# print 'customer_name is customer_age years old' for all customers.\n",
    "\n",
    "# Solution:-\n",
    "year = 2023\n",
    "for customer in customer_list:\n",
    "    print(customer['name'], (year - customer['age']))\n",
    "    print(customer['name'] + ' is ' + str(year - customer['age']) + ' years old.')\n"
   ]
  },
  {
   "cell_type": "code",
   "execution_count": 48,
   "metadata": {},
   "outputs": [
    {
     "name": "stdout",
     "output_type": "stream",
     "text": [
      "The age value 22 is not present in the list.\n"
     ]
    }
   ],
   "source": [
    "#19 Function that takes an input list and value of age to find as input and return true or false if the age value is present or not in the list.\n",
    "\n",
    "def find_age(age_list, age_value):\n",
    "    if age_value in age_list:\n",
    "        return True\n",
    "    else:\n",
    "        return False\n",
    "\n",
    "# List:\n",
    "ages = [32, 54, 27, 36, 33, 47, 10,16,28,55,35,6]\n",
    "age_to_find = 22\n",
    "\n",
    "if find_age(ages, age_to_find):\n",
    "    print(f\"The age value {age_to_find} is present in the list.\")\n",
    "else:\n",
    "    print(f\"The age value {age_to_find} is not present in the list.\")"
   ]
  }
 ],
 "metadata": {
  "kernelspec": {
   "display_name": "Python (myenv)",
   "language": "python",
   "name": "myenv"
  },
  "language_info": {
   "codemirror_mode": {
    "name": "ipython",
    "version": 3
   },
   "file_extension": ".py",
   "mimetype": "text/x-python",
   "name": "python",
   "nbconvert_exporter": "python",
   "pygments_lexer": "ipython3",
   "version": "3.9.21"
  },
  "orig_nbformat": 4
 },
 "nbformat": 4,
 "nbformat_minor": 2
}
